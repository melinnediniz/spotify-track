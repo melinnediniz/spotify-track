{
 "cells": [
  {
   "cell_type": "code",
   "execution_count": 6,
   "id": "997abac1",
   "metadata": {},
   "outputs": [
    {
     "ename": "ModuleNotFoundError",
     "evalue": "No module named 'seaborn'",
     "output_type": "error",
     "traceback": [
      "\u001b[1;31m---------------------------------------------------------------------------\u001b[0m",
      "\u001b[1;31mModuleNotFoundError\u001b[0m                       Traceback (most recent call last)",
      "Cell \u001b[1;32mIn[6], line 5\u001b[0m\n\u001b[0;32m      3\u001b[0m \u001b[38;5;28;01mimport\u001b[39;00m \u001b[38;5;21;01mmatplotlib\u001b[39;00m \u001b[38;5;28;01mas\u001b[39;00m \u001b[38;5;21;01mmpl\u001b[39;00m\n\u001b[0;32m      4\u001b[0m \u001b[38;5;28;01mimport\u001b[39;00m \u001b[38;5;21;01mmatplotlib\u001b[39;00m\u001b[38;5;21;01m.\u001b[39;00m\u001b[38;5;21;01mpatches\u001b[39;00m \u001b[38;5;28;01mas\u001b[39;00m \u001b[38;5;21;01mmpatches\u001b[39;00m\n\u001b[1;32m----> 5\u001b[0m \u001b[38;5;28;01mimport\u001b[39;00m \u001b[38;5;21;01mseaborn\u001b[39;00m \u001b[38;5;28;01mas\u001b[39;00m \u001b[38;5;21;01msns\u001b[39;00m\n\u001b[0;32m      6\u001b[0m \u001b[38;5;28;01mimport\u001b[39;00m \u001b[38;5;21;01mnumpy\u001b[39;00m \u001b[38;5;28;01mas\u001b[39;00m \u001b[38;5;21;01mnp\u001b[39;00m\n\u001b[0;32m      8\u001b[0m \u001b[38;5;66;03m#Modelos\u001b[39;00m\n",
      "\u001b[1;31mModuleNotFoundError\u001b[0m: No module named 'seaborn'"
     ]
    }
   ],
   "source": [
    "import pandas as pd\n",
    "import matplotlib.pyplot as plt\n",
    "import matplotlib as mpl\n",
    "import matplotlib.patches as mpatches\n",
    "import seaborn as sns\n",
    "import numpy as np\n",
    "\n",
    "#Modelos\n",
    "from sklearn.model_selection import train_test_split\n",
    "from sklearn.model_selection import StratifiedKFold\n",
    "from sklearn.tree import DecisionTreeClassifier\n",
    "from sklearn.neighbors import KNeighborsClassifier\n",
    "from sklearn.linear_model import LogisticRegression\n",
    "from sklearn.ensemble import RandomForestClassifier\n",
    "from sklearn.model_selection import cross_val_score\n",
    "from sklearn.model_selection import cross_val_predict\n",
    "from sklearn.model_selection import RandomizedSearchCV\n",
    "\n",
    "# métricas de avaliação\n",
    "from sklearn.metrics import precision_recall_curve, average_precision_score, confusion_matrix, auc, roc_curve\n",
    "from sklearn.metrics import precision_score, recall_score, f1_score, roc_auc_score, accuracy_score, classification_report\n",
    "from sklearn.utils.multiclass import unique_labels\n",
    "\n",
    "# Reamostragem dos dados\n",
    "from imblearn.over_sampling import SMOTE, RandomOverSampler\n",
    "from imblearn.under_sampling import NearMiss, RandomUnderSampler\n",
    "\n",
    "# outras\n",
    "import time\n",
    "import pickle\n",
    "import warnings\n",
    "from scipy import interp\n",
    "from pprint import pprint\n",
    "from scipy.stats import norm\n",
    "from collections import Counter\n",
    "from imblearn.pipeline import Pipeline\n",
    "from imblearn.pipeline import make_pipeline as imbalanced_make_pipeline\n",
    "\n",
    "%matplotlib inline\n",
    "mpl.style.use('ggplot')\n",
    "plt.style.use('fivethirtyeight')\n",
    "sns.set(context='notebook', palette='dark', color_codes=True)\n",
    "\n",
    "#Ignorar warnings\n",
    "warnings.filterwarnings(\"ignore\")"
   ]
  },
  {
   "cell_type": "code",
   "execution_count": 2,
   "id": "d01e9770",
   "metadata": {},
   "outputs": [
    {
     "data": {
      "text/html": [
       "<div>\n",
       "<style scoped>\n",
       "    .dataframe tbody tr th:only-of-type {\n",
       "        vertical-align: middle;\n",
       "    }\n",
       "\n",
       "    .dataframe tbody tr th {\n",
       "        vertical-align: top;\n",
       "    }\n",
       "\n",
       "    .dataframe thead th {\n",
       "        text-align: right;\n",
       "    }\n",
       "</style>\n",
       "<table border=\"1\" class=\"dataframe\">\n",
       "  <thead>\n",
       "    <tr style=\"text-align: right;\">\n",
       "      <th></th>\n",
       "      <th>popularity</th>\n",
       "      <th>duration_ms</th>\n",
       "      <th>explicit</th>\n",
       "      <th>danceability</th>\n",
       "      <th>energy</th>\n",
       "      <th>key</th>\n",
       "      <th>loudness</th>\n",
       "      <th>mode</th>\n",
       "      <th>speechiness</th>\n",
       "      <th>acousticness</th>\n",
       "      <th>instrumentalness</th>\n",
       "      <th>liveness</th>\n",
       "      <th>valence</th>\n",
       "      <th>tempo</th>\n",
       "      <th>time_signature</th>\n",
       "    </tr>\n",
       "  </thead>\n",
       "  <tbody>\n",
       "    <tr>\n",
       "      <th>0</th>\n",
       "      <td>1.0</td>\n",
       "      <td>0.042473</td>\n",
       "      <td>0.0</td>\n",
       "      <td>0.686294</td>\n",
       "      <td>0.4610</td>\n",
       "      <td>0.090909</td>\n",
       "      <td>0.791392</td>\n",
       "      <td>0.0</td>\n",
       "      <td>0.148187</td>\n",
       "      <td>0.032329</td>\n",
       "      <td>0.000001</td>\n",
       "      <td>0.3580</td>\n",
       "      <td>0.718593</td>\n",
       "      <td>0.361245</td>\n",
       "      <td>0.8</td>\n",
       "    </tr>\n",
       "    <tr>\n",
       "      <th>1</th>\n",
       "      <td>0.0</td>\n",
       "      <td>0.026971</td>\n",
       "      <td>0.0</td>\n",
       "      <td>0.426396</td>\n",
       "      <td>0.1660</td>\n",
       "      <td>0.090909</td>\n",
       "      <td>0.597377</td>\n",
       "      <td>1.0</td>\n",
       "      <td>0.079067</td>\n",
       "      <td>0.927711</td>\n",
       "      <td>0.000006</td>\n",
       "      <td>0.1010</td>\n",
       "      <td>0.268342</td>\n",
       "      <td>0.318397</td>\n",
       "      <td>0.8</td>\n",
       "    </tr>\n",
       "    <tr>\n",
       "      <th>2</th>\n",
       "      <td>0.0</td>\n",
       "      <td>0.038679</td>\n",
       "      <td>0.0</td>\n",
       "      <td>0.444670</td>\n",
       "      <td>0.3590</td>\n",
       "      <td>0.000000</td>\n",
       "      <td>0.736123</td>\n",
       "      <td>1.0</td>\n",
       "      <td>0.057720</td>\n",
       "      <td>0.210843</td>\n",
       "      <td>0.000000</td>\n",
       "      <td>0.1170</td>\n",
       "      <td>0.120603</td>\n",
       "      <td>0.313643</td>\n",
       "      <td>0.8</td>\n",
       "    </tr>\n",
       "    <tr>\n",
       "      <th>3</th>\n",
       "      <td>1.0</td>\n",
       "      <td>0.036978</td>\n",
       "      <td>0.0</td>\n",
       "      <td>0.270051</td>\n",
       "      <td>0.0596</td>\n",
       "      <td>0.000000</td>\n",
       "      <td>0.573701</td>\n",
       "      <td>1.0</td>\n",
       "      <td>0.037617</td>\n",
       "      <td>0.908635</td>\n",
       "      <td>0.000071</td>\n",
       "      <td>0.1320</td>\n",
       "      <td>0.143719</td>\n",
       "      <td>0.746758</td>\n",
       "      <td>0.6</td>\n",
       "    </tr>\n",
       "    <tr>\n",
       "      <th>4</th>\n",
       "      <td>1.0</td>\n",
       "      <td>0.036389</td>\n",
       "      <td>0.0</td>\n",
       "      <td>0.627411</td>\n",
       "      <td>0.4430</td>\n",
       "      <td>0.181818</td>\n",
       "      <td>0.737103</td>\n",
       "      <td>1.0</td>\n",
       "      <td>0.054508</td>\n",
       "      <td>0.470884</td>\n",
       "      <td>0.000000</td>\n",
       "      <td>0.0829</td>\n",
       "      <td>0.167839</td>\n",
       "      <td>0.492863</td>\n",
       "      <td>0.8</td>\n",
       "    </tr>\n",
       "  </tbody>\n",
       "</table>\n",
       "</div>"
      ],
      "text/plain": [
       "   popularity  duration_ms  explicit  danceability  energy       key  \\\n",
       "0         1.0     0.042473       0.0      0.686294  0.4610  0.090909   \n",
       "1         0.0     0.026971       0.0      0.426396  0.1660  0.090909   \n",
       "2         0.0     0.038679       0.0      0.444670  0.3590  0.000000   \n",
       "3         1.0     0.036978       0.0      0.270051  0.0596  0.000000   \n",
       "4         1.0     0.036389       0.0      0.627411  0.4430  0.181818   \n",
       "\n",
       "   loudness  mode  speechiness  acousticness  instrumentalness  liveness  \\\n",
       "0  0.791392   0.0     0.148187      0.032329          0.000001    0.3580   \n",
       "1  0.597377   1.0     0.079067      0.927711          0.000006    0.1010   \n",
       "2  0.736123   1.0     0.057720      0.210843          0.000000    0.1170   \n",
       "3  0.573701   1.0     0.037617      0.908635          0.000071    0.1320   \n",
       "4  0.737103   1.0     0.054508      0.470884          0.000000    0.0829   \n",
       "\n",
       "    valence     tempo  time_signature  \n",
       "0  0.718593  0.361245             0.8  \n",
       "1  0.268342  0.318397             0.8  \n",
       "2  0.120603  0.313643             0.8  \n",
       "3  0.143719  0.746758             0.6  \n",
       "4  0.167839  0.492863             0.8  "
      ]
     },
     "execution_count": 2,
     "metadata": {},
     "output_type": "execute_result"
    }
   ],
   "source": [
    "data = pd.read_csv(\"data/dataset_norm_qtde.csv\", index_col=0)\n",
    "data.head(5)"
   ]
  },
  {
   "cell_type": "markdown",
   "id": "11201051",
   "metadata": {},
   "source": [
    "# Dividindo o dataset em treino, validação e teste"
   ]
  },
  {
   "cell_type": "code",
   "execution_count": 3,
   "id": "08679ec2",
   "metadata": {},
   "outputs": [],
   "source": [
    "df_train, df_test = train_test_split(data, test_size=0.2, random_state=42, shuffle=True)"
   ]
  },
  {
   "cell_type": "code",
   "execution_count": 4,
   "id": "46a96070",
   "metadata": {},
   "outputs": [
    {
     "data": {
      "text/plain": [
       "0.0    0.952146\n",
       "1.0    0.047854\n",
       "Name: popularity, dtype: float64"
      ]
     },
     "execution_count": 4,
     "metadata": {},
     "output_type": "execute_result"
    }
   ],
   "source": [
    "# Visualizando as proporções do atributo alvo\n",
    "df_train[\"popularity\"].value_counts(normalize=True)"
   ]
  },
  {
   "cell_type": "code",
   "execution_count": 5,
   "id": "bccaba65",
   "metadata": {},
   "outputs": [
    {
     "data": {
      "text/plain": [
       "0.0    0.950638\n",
       "1.0    0.049362\n",
       "Name: popularity, dtype: float64"
      ]
     },
     "execution_count": 5,
     "metadata": {},
     "output_type": "execute_result"
    }
   ],
   "source": [
    "df_test[\"popularity\"].value_counts(normalize=True)"
   ]
  },
  {
   "cell_type": "markdown",
   "id": "01b86673",
   "metadata": {},
   "source": [
    "## Validação cruzada"
   ]
  },
  {
   "cell_type": "code",
   "execution_count": 6,
   "id": "b30704d7",
   "metadata": {},
   "outputs": [],
   "source": [
    "X, y = df_train.drop('popularity', axis=1), df_train[\"popularity\"]"
   ]
  },
  {
   "cell_type": "code",
   "execution_count": 7,
   "id": "f3fc3a7a",
   "metadata": {},
   "outputs": [],
   "source": [
    "KFold = StratifiedKFold(n_splits=5, shuffle=True, random_state=42)"
   ]
  },
  {
   "cell_type": "code",
   "execution_count": 15,
   "id": "b028d08e",
   "metadata": {},
   "outputs": [],
   "source": [
    "# Separando dados em treino e validação\n",
    "for train_index, val_index in KFold.split(X, y):\n",
    "\n",
    "    X_train, X_val = X.iloc[train_index], X.iloc[val_index]\n",
    "    y_train, y_val = y.iloc[train_index], y.iloc[val_index]"
   ]
  },
  {
   "cell_type": "code",
   "execution_count": 56,
   "id": "98c2164f",
   "metadata": {},
   "outputs": [
    {
     "name": "stdout",
     "output_type": "stream",
     "text": [
      "X_train = (72672, 14), y_train = (72672,)\n",
      "X_val = (18167, 14), y_val = (18167,)\n",
      "\n",
      "Proporção do df_train para classe=1: 0.0479\n",
      "\n",
      "Proporção de X_train para classe=1:  0.0479\n",
      "Proporção de X_val para classe=1:    0.0478\n",
      "\n",
      "Quantidade de musicas populares: 5468\n",
      "Quantidade de musicas não populares: 108081\n"
     ]
    }
   ],
   "source": [
    "print(f\"X_train = {X_train.shape}, y_train = {y_train.shape}\")\n",
    "print(f\"X_val = {X_val.shape}, y_val = {y_val.shape}\\n\")\n",
    "print(f\"Proporção do df_train para classe=1: {round(len(df_train[df_train.popularity==1]) / df_train.shape[0], 4)}\\n\")\n",
    "print(f\"Proporção de X_train para classe=1:  {round(len(y_train[y_train==1]) / X_train.shape[0], 4)}\")\n",
    "print(f\"Proporção de X_val para classe=1:    {round(len(y_val[y_val==1]) / X_val.shape[0], 4)}\\n\")\n",
    "print(f\"Quantidade de musicas populares: {len(data[data.popularity == 1.0])}\")\n",
    "print(f\"Quantidade de musicas não populares: {len(data[data.popularity == 0.0])}\")"
   ]
  },
  {
   "cell_type": "markdown",
   "id": "cac69ee9",
   "metadata": {},
   "source": [
    "# Dia 4 - Definindo o baseline\n",
    "> Uma linha de base (baseline) é o resultado de um modelo/solução muito básico. Você geralmente cria uma linha de base e depois tenta fazer soluções mais complexas para obter um resultado melhor. Se você conseguir uma pontuação melhor do que a linha de base, é bom."
   ]
  },
  {
   "cell_type": "code",
   "execution_count": 29,
   "id": "5451324e",
   "metadata": {},
   "outputs": [],
   "source": [
    "reg = LogisticRegression()\n",
    "\n",
    "reg.fit(X_train, y_train)\n",
    "\n",
    "y_pred_train = reg.predict(X_train)\n",
    "\n",
    "y_pred_val = reg.predict(X_val)"
   ]
  },
  {
   "cell_type": "code",
   "execution_count": 34,
   "id": "2703b679",
   "metadata": {},
   "outputs": [
    {
     "data": {
      "text/plain": [
       "array([[-1.21446716,  0.5439353 ,  0.94504929, -1.43527323, -0.0254846 ,\n",
       "         4.27641958, -0.09312669, -1.95441783, -1.21806524, -2.176823  ,\n",
       "        -1.37461457, -0.25482184, -0.94426236,  0.41652551]])"
      ]
     },
     "execution_count": 34,
     "metadata": {},
     "output_type": "execute_result"
    }
   ],
   "source": [
    "reg.coef_"
   ]
  },
  {
   "cell_type": "code",
   "execution_count": 40,
   "id": "16da5c95",
   "metadata": {},
   "outputs": [
    {
     "data": {
      "text/html": [
       "<div>\n",
       "<style scoped>\n",
       "    .dataframe tbody tr th:only-of-type {\n",
       "        vertical-align: middle;\n",
       "    }\n",
       "\n",
       "    .dataframe tbody tr th {\n",
       "        vertical-align: top;\n",
       "    }\n",
       "\n",
       "    .dataframe thead th {\n",
       "        text-align: right;\n",
       "    }\n",
       "</style>\n",
       "<table border=\"1\" class=\"dataframe\">\n",
       "  <thead>\n",
       "    <tr style=\"text-align: right;\">\n",
       "      <th></th>\n",
       "      <th>Features</th>\n",
       "      <th>Coef</th>\n",
       "    </tr>\n",
       "  </thead>\n",
       "  <tbody>\n",
       "    <tr>\n",
       "      <th>0</th>\n",
       "      <td>duration_ms</td>\n",
       "      <td>-1.214467</td>\n",
       "    </tr>\n",
       "    <tr>\n",
       "      <th>1</th>\n",
       "      <td>explicit</td>\n",
       "      <td>0.543935</td>\n",
       "    </tr>\n",
       "    <tr>\n",
       "      <th>2</th>\n",
       "      <td>danceability</td>\n",
       "      <td>0.945049</td>\n",
       "    </tr>\n",
       "    <tr>\n",
       "      <th>3</th>\n",
       "      <td>energy</td>\n",
       "      <td>-1.435273</td>\n",
       "    </tr>\n",
       "    <tr>\n",
       "      <th>4</th>\n",
       "      <td>key</td>\n",
       "      <td>-0.025485</td>\n",
       "    </tr>\n",
       "    <tr>\n",
       "      <th>5</th>\n",
       "      <td>loudness</td>\n",
       "      <td>4.276420</td>\n",
       "    </tr>\n",
       "    <tr>\n",
       "      <th>6</th>\n",
       "      <td>mode</td>\n",
       "      <td>-0.093127</td>\n",
       "    </tr>\n",
       "    <tr>\n",
       "      <th>7</th>\n",
       "      <td>speechiness</td>\n",
       "      <td>-1.954418</td>\n",
       "    </tr>\n",
       "    <tr>\n",
       "      <th>8</th>\n",
       "      <td>acousticness</td>\n",
       "      <td>-1.218065</td>\n",
       "    </tr>\n",
       "    <tr>\n",
       "      <th>9</th>\n",
       "      <td>instrumentalness</td>\n",
       "      <td>-2.176823</td>\n",
       "    </tr>\n",
       "    <tr>\n",
       "      <th>10</th>\n",
       "      <td>liveness</td>\n",
       "      <td>-1.374615</td>\n",
       "    </tr>\n",
       "    <tr>\n",
       "      <th>11</th>\n",
       "      <td>valence</td>\n",
       "      <td>-0.254822</td>\n",
       "    </tr>\n",
       "    <tr>\n",
       "      <th>12</th>\n",
       "      <td>tempo</td>\n",
       "      <td>-0.944262</td>\n",
       "    </tr>\n",
       "    <tr>\n",
       "      <th>13</th>\n",
       "      <td>time_signature</td>\n",
       "      <td>0.416526</td>\n",
       "    </tr>\n",
       "  </tbody>\n",
       "</table>\n",
       "</div>"
      ],
      "text/plain": [
       "            Features      Coef\n",
       "0        duration_ms -1.214467\n",
       "1           explicit  0.543935\n",
       "2       danceability  0.945049\n",
       "3             energy -1.435273\n",
       "4                key -0.025485\n",
       "5           loudness  4.276420\n",
       "6               mode -0.093127\n",
       "7        speechiness -1.954418\n",
       "8       acousticness -1.218065\n",
       "9   instrumentalness -2.176823\n",
       "10          liveness -1.374615\n",
       "11           valence -0.254822\n",
       "12             tempo -0.944262\n",
       "13    time_signature  0.416526"
      ]
     },
     "execution_count": 40,
     "metadata": {},
     "output_type": "execute_result"
    }
   ],
   "source": [
    "df_coef = data.drop(columns='popularity')\n",
    "\n",
    "dictio = {\n",
    "    \"Features\": df_coef.columns,\n",
    "    \"Coef\": reg.coef_.tolist()[0]\n",
    "}\n",
    "df = pd.DataFrame(dictio)\n",
    "df"
   ]
  },
  {
   "cell_type": "markdown",
   "id": "ece744ea",
   "metadata": {},
   "source": [
    "# Dia 5 - Validação do baseline"
   ]
  },
  {
   "cell_type": "code",
   "execution_count": 47,
   "id": "ba57c6f2",
   "metadata": {},
   "outputs": [],
   "source": [
    "def plot_confusion_matrix(y_test, y_pred, percent=False):\n",
    "    cf_matrix = confusion_matrix(y_test, y_pred)\n",
    "    cm_norm = cf_matrix.astype('float') / cf_matrix.sum(axis=1)[:, np.newaxis]\n",
    "    #print(cm_norm)\n",
    "    \n",
    "    classes = unique_labels(y_test, y_pred)\n",
    "\n",
    "    fig, ax = plt.subplots(figsize=(4, 4))\n",
    "    if percent:\n",
    "      #sns.heatmap(cf_matrix/np.sum(cf_matrix), annot=True, fmt='.2%', cmap='Reds')\n",
    "      sns.heatmap(cm_norm, annot=True, fmt='.2%', cmap='Reds')\n",
    "    else:\n",
    "      sns.heatmap(cf_matrix, annot=True, fmt='d', cmap='Reds', cbar=False, ax=ax)\n",
    "    ax.set_xlabel('Previsões')\n",
    "    ax.set_ylabel('Valores reais')\n",
    "    ax.set_xticklabels(classes, rotation=90)\n",
    "    ax.set_yticklabels(classes, rotation=0)\n",
    "\n",
    "    title = 'Matriz de confusão'\n",
    "    ax.set_title(title, fontsize=10)\n",
    "\n",
    "    plt.tight_layout()\n",
    "    plt.show()"
   ]
  },
  {
   "cell_type": "code",
   "execution_count": 42,
   "id": "3510862f",
   "metadata": {},
   "outputs": [
    {
     "name": "stdout",
     "output_type": "stream",
     "text": [
      "\t Regressão Logística (baseline)\n",
      "\n",
      "------------------------------------------------------------\n",
      "Nos dados de TREINO:\n",
      "------------------------------------------------------------\n",
      "accuracy:  0.9521411272567151\n",
      "precision: 0.0\n",
      "recall:    0.0\n",
      "f1:        0.0\n",
      "\n",
      "------------------------------------------------------------\n",
      "------------------------------------------------------------\n",
      "\n",
      "Nos dados de VALIDAÇÃO:\n",
      "------------------------------------------------------------\n",
      "Modelo:    Regressão Logística (baseline)\n",
      "\n",
      "accuracy:  0.9521660153024715\n",
      "precision: 0.0\n",
      "recall:    0.0\n",
      "f1:        0.0\n",
      "------------------------------------------------------------\n"
     ]
    }
   ],
   "source": [
    "print('\\t Regressão Logística (baseline)\\n')\n",
    "print('---' * 20)\n",
    "print('Nos dados de TREINO:')\n",
    "print('---' * 20)\n",
    "print(f\"accuracy:  {accuracy_score(y_train, y_pred_train)}\")\n",
    "print(f\"precision: {precision_score(y_train, y_pred_train)}\")\n",
    "print(f\"recall:    {recall_score(y_train, y_pred_train)}\")\n",
    "print(f\"f1:        {f1_score(y_train, y_pred_train)}\")\n",
    "print()\n",
    "print('---' * 20)\n",
    "print('---' * 20)\n",
    "print()\n",
    "print('Nos dados de VALIDAÇÃO:')\n",
    "print('---' * 20)\n",
    "print('Modelo:    Regressão Logística (baseline)\\n')\n",
    "print(f\"accuracy:  {accuracy_score(y_val, y_pred_val)}\")\n",
    "print(f\"precision: {precision_score(y_val, y_pred_val)}\")\n",
    "print(f\"recall:    {recall_score(y_val, y_pred_val)}\")\n",
    "print(f\"f1:        {f1_score(y_val, y_pred_val)}\")\n",
    "print('---' * 20)"
   ]
  },
  {
   "cell_type": "code",
   "execution_count": 50,
   "id": "20773159",
   "metadata": {},
   "outputs": [
    {
     "data": {
      "image/png": "[encoded data removed]",
      "text/plain": [
       "<Figure size 400x400 with 1 Axes>"
      ]
     },
     "metadata": {},
     "output_type": "display_data"
    }
   ],
   "source": [
    "plot_confusion_matrix(y_val, y_pred_val)"
   ]
  }
 ],
 "metadata": {
  "kernelspec": {
   "display_name": "Python 3 (ipykernel)",
   "language": "python",
   "name": "python3"
  },
  "language_info": {
   "codemirror_mode": {
    "name": "ipython",
    "version": 3
   },
   "file_extension": ".py",
   "mimetype": "text/x-python",
   "name": "python",
   "nbconvert_exporter": "python",
   "pygments_lexer": "ipython3",
   "version": "3.9.16"
  }
 },
 "nbformat": 4,
 "nbformat_minor": 5
}
